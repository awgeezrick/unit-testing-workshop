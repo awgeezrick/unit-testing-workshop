{
 "cells": [
  {
   "cell_type": "markdown",
   "metadata": {},
   "source": [
    "# Yelp Reviews"
   ]
  },
  {
   "cell_type": "markdown",
   "metadata": {},
   "source": [
    "### Load data"
   ]
  },
  {
   "cell_type": "code",
   "execution_count": 1,
   "metadata": {},
   "outputs": [],
   "source": [
    "import json\n",
    "def _load_data(filename):\n",
    "    with open(filename) as f:\n",
    "        reviews = f.read().strip().split('\\n')\n",
    "    reviews = [json.loads(review) for review in reviews]\n",
    "    return reviews\n",
    "\n",
    "def _get_texts(reviews):\n",
    "    texts = [review['text'] for review in reviews]\n",
    "    return texts\n",
    "\n",
    "def get_data_and_labels(filepath):\n",
    "    reviews = _load_data(filepath)\n",
    "    texts = _get_texts(reviews)\n",
    "\n",
    "    binstars = [0 if review['stars'] <= 3 else 1 for review in reviews]\n",
    "    balanced_texts = []\n",
    "    balanced_labels = []\n",
    "    limit = 100000  # Change this to grow/shrink the dataset\n",
    "    neg_pos_counts = [0, 0]\n",
    "    for i in range(len(texts)):\n",
    "        polarity = binstars[i]\n",
    "        if neg_pos_counts[polarity] < limit:\n",
    "            balanced_texts.append(texts[i])\n",
    "            balanced_labels.append(binstars[i])\n",
    "            neg_pos_counts[polarity] += 1\n",
    "\n",
    "    return balanced_texts, balanced_labels, None"
   ]
  },
  {
   "cell_type": "code",
   "execution_count": 2,
   "metadata": {},
   "outputs": [],
   "source": [
    "texts, labels, _ = get_data_and_labels('../data/review_100_samples.json')"
   ]
  },
  {
   "cell_type": "code",
   "execution_count": 3,
   "metadata": {},
   "outputs": [],
   "source": [
    "from sklearn.model_selection import train_test_split\n",
    "\n",
    "data_train, data_val, labels_train, labels_val = train_test_split(texts, labels, random_state=0)"
   ]
  },
  {
   "cell_type": "markdown",
   "metadata": {},
   "source": [
    "### Train model"
   ]
  },
  {
   "cell_type": "code",
   "execution_count": 4,
   "metadata": {},
   "outputs": [],
   "source": [
    "from sklearn.ensemble import RandomForestClassifier\n",
    "from sklearn.pipeline import Pipeline\n",
    "from sklearn.feature_extraction.text import CountVectorizer, TfidfTransformer\n",
    "text_clf = Pipeline([('vect', CountVectorizer()),\n",
    "                     ('tfidf', TfidfTransformer()),\n",
    "                     ('clf', RandomForestClassifier())\n",
    "                    ])\n",
    "text_clf = text_clf.fit(data_train, labels_train)"
   ]
  },
  {
   "cell_type": "markdown",
   "metadata": {},
   "source": [
    "### Evaluate model"
   ]
  },
  {
   "cell_type": "code",
   "execution_count": 5,
   "metadata": {},
   "outputs": [
    {
     "name": "stdout",
     "output_type": "stream",
     "text": [
      "precision score: 0.6086956521739131\n",
      "recall score: 1.0\n"
     ]
    }
   ],
   "source": [
    "from sklearn.metrics import precision_score, recall_score\n",
    "y_pred = text_clf.predict(data_val)\n",
    "y_true = labels_val\n",
    "p = precision_score(y_true, y_pred)\n",
    "r = recall_score(y_true, y_pred)\n",
    "print('precision score: {}'.format(p))\n",
    "print('recall score: {}'.format(r))"
   ]
  },
  {
   "cell_type": "code",
   "execution_count": 6,
   "metadata": {},
   "outputs": [
    {
     "data": {
      "text/plain": [
       "array([1])"
      ]
     },
     "execution_count": 6,
     "metadata": {},
     "output_type": "execute_result"
    }
   ],
   "source": [
    "text_clf.predict([\"No no no no no \"])"
   ]
  },
  {
   "cell_type": "code",
   "execution_count": 65,
   "metadata": {},
   "outputs": [],
   "source": [
    "# import pickle\n",
    "# pickle.dump(text_clf, open('./model.pkl', 'wb'))"
   ]
  },
  {
   "cell_type": "code",
   "execution_count": null,
   "metadata": {},
   "outputs": [],
   "source": []
  }
 ],
 "metadata": {
  "kernelspec": {
   "display_name": "Python 3",
   "language": "python",
   "name": "python3"
  },
  "language_info": {
   "codemirror_mode": {
    "name": "ipython",
    "version": 3
   },
   "file_extension": ".py",
   "mimetype": "text/x-python",
   "name": "python",
   "nbconvert_exporter": "python",
   "pygments_lexer": "ipython3",
   "version": "3.6.8"
  }
 },
 "nbformat": 4,
 "nbformat_minor": 2
}
